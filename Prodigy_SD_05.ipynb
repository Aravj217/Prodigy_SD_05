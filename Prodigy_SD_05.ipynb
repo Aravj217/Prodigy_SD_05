{
 "cells": [
  {
   "cell_type": "code",
   "execution_count": 2,
   "id": "8997e3a2-8244-4259-8d9c-b0dc89f9f8f8",
   "metadata": {},
   "outputs": [
    {
     "name": "stdout",
     "output_type": "stream",
     "text": [
      "Scraped 100 products and saved to 'scraped_books.csv'\n"
     ]
    }
   ],
   "source": [
    "import requests\n",
    "from bs4 import BeautifulSoup\n",
    "import pandas as pd\n",
    "\n",
    "# Base URL\n",
    "BASE_URL = \"http://books.toscrape.com/catalogue/page-{}.html\"\n",
    "\n",
    "# Storage for scraped data\n",
    "products = []\n",
    "\n",
    "# Loop through the first 5 pages\n",
    "for page in range(1, 6):\n",
    "    url = BASE_URL.format(page)\n",
    "    response = requests.get(url)\n",
    "    soup = BeautifulSoup(response.content, \"html.parser\")\n",
    "    \n",
    "    # Find all product containers\n",
    "    articles = soup.find_all(\"article\", class_=\"product_pod\")\n",
    "    \n",
    "    for article in articles:\n",
    "        name = article.h3.a[\"title\"]\n",
    "        price = article.find(\"p\", class_=\"price_color\").text.replace(\"£\", \"\")\n",
    "        rating_class = article.p.get(\"class\")[1]  # e.g., 'Three'\n",
    "        \n",
    "        # Convert rating word to number\n",
    "        ratings_map = {\"One\": 1, \"Two\": 2, \"Three\": 3, \"Four\": 4, \"Five\": 5}\n",
    "        rating = ratings_map.get(rating_class, None)\n",
    "        \n",
    "        products.append({\n",
    "            \"Name\": name,\n",
    "            \"Price (£)\": float(price),\n",
    "            \"Rating\": rating\n",
    "        })\n",
    "\n",
    "# Save to CSV\n",
    "df = pd.DataFrame(products)\n",
    "df.to_csv(\"scraped_books.csv\", index=False)\n",
    "\n",
    "print(f\"Scraped {len(products)} products and saved to 'scraped_books.csv'\")"
   ]
  },
  {
   "cell_type": "code",
   "execution_count": null,
   "id": "53f98d02-36ab-41f5-acdc-061c2f17a3ed",
   "metadata": {},
   "outputs": [],
   "source": []
  }
 ],
 "metadata": {
  "kernelspec": {
   "display_name": "Python 3 (ipykernel)",
   "language": "python",
   "name": "python3"
  },
  "language_info": {
   "codemirror_mode": {
    "name": "ipython",
    "version": 3
   },
   "file_extension": ".py",
   "mimetype": "text/x-python",
   "name": "python",
   "nbconvert_exporter": "python",
   "pygments_lexer": "ipython3",
   "version": "3.12.7"
  }
 },
 "nbformat": 4,
 "nbformat_minor": 5
}
